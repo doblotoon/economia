{
 "cells": [
  {
   "cell_type": "markdown",
   "metadata": {},
   "source": [
    "# Pass Through do câmbio na inflação"
   ]
  },
  {
   "cell_type": "markdown",
   "metadata": {},
   "source": [
    "Neste exercício, vamos seguir a publicação realizada pelo site Análise Macro, em seu Boletim AM, que sempre traz conteúdos de economia aplicada. Para conferir o desenvolvimento original do autor, segue o link:\n",
    "\n",
    "https://analisemacro.com.br/economia/macroeconometria/estimando-o-repasse-externo-sobre-a-inflacao-brasileira/"
   ]
  },
  {
   "cell_type": "markdown",
   "metadata": {},
   "source": [
    "Trarei aqui de maneira mais simplificado os temas, pois assim mantenho o papel do post original, não o \"copiando\" por completo e ainda desenvolvendo o  exercício."
   ]
  },
  {
   "cell_type": "markdown",
   "metadata": {},
   "source": [
    "A estimação do produto será realizado pelo *Generalized Method of Moments (GMM)*. As variáveis utilizadas no modelo são:\n",
    "\n",
    "* Hiato do produto - BCB\n",
    "* IC-Br USD (Var. % Trim.) - BCB\n",
    "* Expectativa de 12 meses do IPCA Total (a.a.%) - BCB\n",
    "* IPCA EX01 (a.a.%) - BCB"
   ]
  },
  {
   "cell_type": "markdown",
   "metadata": {},
   "source": [
    "#### **1.** Carregando libs\n"
   ]
  },
  {
   "cell_type": "code",
   "execution_count": 2,
   "metadata": {},
   "outputs": [
    {
     "name": "stdout",
     "output_type": "stream",
     "text": [
      "Requirement already satisfied: python-bcb in /usr/local/python/3.10.8/lib/python3.10/site-packages (0.2.0)\n",
      "Requirement already satisfied: httpx<0.25.0,>=0.24.0 in /usr/local/python/3.10.8/lib/python3.10/site-packages (from python-bcb) (0.24.1)\n",
      "Requirement already satisfied: lxml<5.0.0,>=4.9.2 in /usr/local/python/3.10.8/lib/python3.10/site-packages (from python-bcb) (4.9.3)\n",
      "Requirement already satisfied: pandas<3.0.0,>=2.0.0 in /home/codespace/.local/lib/python3.10/site-packages (from python-bcb) (2.1.0)\n",
      "Requirement already satisfied: requests<3.0.0,>=2.31.0 in /home/codespace/.local/lib/python3.10/site-packages (from python-bcb) (2.31.0)\n",
      "Requirement already satisfied: certifi in /home/codespace/.local/lib/python3.10/site-packages (from httpx<0.25.0,>=0.24.0->python-bcb) (2023.7.22)\n",
      "Requirement already satisfied: httpcore<0.18.0,>=0.15.0 in /usr/local/python/3.10.8/lib/python3.10/site-packages (from httpx<0.25.0,>=0.24.0->python-bcb) (0.17.3)\n",
      "Requirement already satisfied: idna in /home/codespace/.local/lib/python3.10/site-packages (from httpx<0.25.0,>=0.24.0->python-bcb) (3.4)\n",
      "Requirement already satisfied: sniffio in /home/codespace/.local/lib/python3.10/site-packages (from httpx<0.25.0,>=0.24.0->python-bcb) (1.3.0)\n",
      "Requirement already satisfied: numpy>=1.22.4 in /home/codespace/.local/lib/python3.10/site-packages (from pandas<3.0.0,>=2.0.0->python-bcb) (1.25.2)\n",
      "Requirement already satisfied: python-dateutil>=2.8.2 in /home/codespace/.local/lib/python3.10/site-packages (from pandas<3.0.0,>=2.0.0->python-bcb) (2.8.2)\n",
      "Requirement already satisfied: pytz>=2020.1 in /home/codespace/.local/lib/python3.10/site-packages (from pandas<3.0.0,>=2.0.0->python-bcb) (2023.3.post1)\n",
      "Requirement already satisfied: tzdata>=2022.1 in /home/codespace/.local/lib/python3.10/site-packages (from pandas<3.0.0,>=2.0.0->python-bcb) (2023.3)\n",
      "Requirement already satisfied: charset-normalizer<4,>=2 in /home/codespace/.local/lib/python3.10/site-packages (from requests<3.0.0,>=2.31.0->python-bcb) (3.2.0)\n",
      "Requirement already satisfied: urllib3<3,>=1.21.1 in /home/codespace/.local/lib/python3.10/site-packages (from requests<3.0.0,>=2.31.0->python-bcb) (2.0.4)\n",
      "Requirement already satisfied: h11<0.15,>=0.13 in /usr/local/python/3.10.8/lib/python3.10/site-packages (from httpcore<0.18.0,>=0.15.0->httpx<0.25.0,>=0.24.0->python-bcb) (0.14.0)\n",
      "Requirement already satisfied: anyio<5.0,>=3.0 in /home/codespace/.local/lib/python3.10/site-packages (from httpcore<0.18.0,>=0.15.0->httpx<0.25.0,>=0.24.0->python-bcb) (4.0.0)\n",
      "Requirement already satisfied: six>=1.5 in /home/codespace/.local/lib/python3.10/site-packages (from python-dateutil>=2.8.2->pandas<3.0.0,>=2.0.0->python-bcb) (1.16.0)\n",
      "Requirement already satisfied: exceptiongroup>=1.0.2 in /home/codespace/.local/lib/python3.10/site-packages (from anyio<5.0,>=3.0->httpcore<0.18.0,>=0.15.0->httpx<0.25.0,>=0.24.0->python-bcb) (1.1.3)\n",
      "\n",
      "\u001b[1m[\u001b[0m\u001b[34;49mnotice\u001b[0m\u001b[1;39;49m]\u001b[0m\u001b[39;49m A new release of pip is available: \u001b[0m\u001b[31;49m23.2.1\u001b[0m\u001b[39;49m -> \u001b[0m\u001b[32;49m23.3.1\u001b[0m\n",
      "\u001b[1m[\u001b[0m\u001b[34;49mnotice\u001b[0m\u001b[1;39;49m]\u001b[0m\u001b[39;49m To update, run: \u001b[0m\u001b[32;49mpip install --upgrade pip\u001b[0m\n",
      "Note: you may need to restart the kernel to use updated packages.\n",
      "Requirement already satisfied: linearmodels in /usr/local/python/3.10.8/lib/python3.10/site-packages (5.3)\n",
      "Requirement already satisfied: numpy>=1.19.0 in /home/codespace/.local/lib/python3.10/site-packages (from linearmodels) (1.25.2)\n",
      "Requirement already satisfied: pandas>=1.1.0 in /home/codespace/.local/lib/python3.10/site-packages (from linearmodels) (2.1.0)\n",
      "Requirement already satisfied: scipy>=1.5.0 in /home/codespace/.local/lib/python3.10/site-packages (from linearmodels) (1.11.2)\n",
      "Requirement already satisfied: statsmodels>=0.12.0 in /usr/local/python/3.10.8/lib/python3.10/site-packages (from linearmodels) (0.14.0)\n",
      "Requirement already satisfied: mypy-extensions>=0.4 in /usr/local/python/3.10.8/lib/python3.10/site-packages (from linearmodels) (1.0.0)\n",
      "Requirement already satisfied: Cython>=0.29.34 in /usr/local/python/3.10.8/lib/python3.10/site-packages (from linearmodels) (3.0.4)\n",
      "Requirement already satisfied: pyhdfe>=0.1 in /usr/local/python/3.10.8/lib/python3.10/site-packages (from linearmodels) (0.2.0)\n",
      "Requirement already satisfied: formulaic>=0.6.5 in /usr/local/python/3.10.8/lib/python3.10/site-packages (from linearmodels) (0.6.6)\n",
      "Requirement already satisfied: setuptools-scm[toml]<8.0.0,>=7.0.0 in /usr/local/python/3.10.8/lib/python3.10/site-packages (from linearmodels) (7.1.0)\n",
      "Requirement already satisfied: astor>=0.8 in /usr/local/python/3.10.8/lib/python3.10/site-packages (from formulaic>=0.6.5->linearmodels) (0.8.1)\n",
      "Requirement already satisfied: interface-meta>=1.2.0 in /usr/local/python/3.10.8/lib/python3.10/site-packages (from formulaic>=0.6.5->linearmodels) (1.3.0)\n",
      "Requirement already satisfied: typing-extensions>=4.2.0 in /home/codespace/.local/lib/python3.10/site-packages (from formulaic>=0.6.5->linearmodels) (4.7.1)\n",
      "Requirement already satisfied: wrapt>=1.0 in /usr/local/python/3.10.8/lib/python3.10/site-packages (from formulaic>=0.6.5->linearmodels) (1.15.0)\n",
      "Requirement already satisfied: python-dateutil>=2.8.2 in /home/codespace/.local/lib/python3.10/site-packages (from pandas>=1.1.0->linearmodels) (2.8.2)\n",
      "Requirement already satisfied: pytz>=2020.1 in /home/codespace/.local/lib/python3.10/site-packages (from pandas>=1.1.0->linearmodels) (2023.3.post1)\n",
      "Requirement already satisfied: tzdata>=2022.1 in /home/codespace/.local/lib/python3.10/site-packages (from pandas>=1.1.0->linearmodels) (2023.3)\n",
      "Requirement already satisfied: packaging>=20.0 in /home/codespace/.local/lib/python3.10/site-packages (from setuptools-scm[toml]<8.0.0,>=7.0.0->linearmodels) (23.1)\n",
      "Requirement already satisfied: setuptools in /home/codespace/.local/lib/python3.10/site-packages (from setuptools-scm[toml]<8.0.0,>=7.0.0->linearmodels) (68.0.0)\n",
      "Requirement already satisfied: tomli>=1.0.0 in /home/codespace/.local/lib/python3.10/site-packages (from setuptools-scm[toml]<8.0.0,>=7.0.0->linearmodels) (2.0.1)\n",
      "Requirement already satisfied: patsy>=0.5.2 in /usr/local/python/3.10.8/lib/python3.10/site-packages (from statsmodels>=0.12.0->linearmodels) (0.5.3)\n",
      "Requirement already satisfied: six in /home/codespace/.local/lib/python3.10/site-packages (from patsy>=0.5.2->statsmodels>=0.12.0->linearmodels) (1.16.0)\n",
      "\n",
      "\u001b[1m[\u001b[0m\u001b[34;49mnotice\u001b[0m\u001b[1;39;49m]\u001b[0m\u001b[39;49m A new release of pip is available: \u001b[0m\u001b[31;49m23.2.1\u001b[0m\u001b[39;49m -> \u001b[0m\u001b[32;49m23.3.1\u001b[0m\n",
      "\u001b[1m[\u001b[0m\u001b[34;49mnotice\u001b[0m\u001b[1;39;49m]\u001b[0m\u001b[39;49m To update, run: \u001b[0m\u001b[32;49mpip install --upgrade pip\u001b[0m\n",
      "Note: you may need to restart the kernel to use updated packages.\n"
     ]
    }
   ],
   "source": [
    "%pip install python-bcb\n",
    "%pip install linearmodels"
   ]
  },
  {
   "cell_type": "code",
   "execution_count": 5,
   "metadata": {},
   "outputs": [],
   "source": [
    "from bcb import sgs #importando o Sistema Gerenciador de Séries Temporais do BC\n",
    "from bcb import Expectativas #importanto dados de expectativas \n",
    "import pandas as pd #para manipular os dados\n",
    "import numpy as np #para manipular números e realizar cálculos\n",
    "from functools import reduce # não sei\n",
    "import seaborn as sns # biblioteca para visualização de dados estatistícos baseadas em matplotlib\n",
    "import matplotlib.pyplot as plt # biblioteca para plotar gráficos\n",
    "from plotnine import * # outra biblioteca de apoio para a construção dos gráficos"
   ]
  },
  {
   "cell_type": "markdown",
   "metadata": {},
   "source": [
    "#### **2.** Coleta e tratamento de dados"
   ]
  },
  {
   "cell_type": "markdown",
   "metadata": {},
   "source": [
    "##### **2.1.** Expectativas de inflação"
   ]
  },
  {
   "cell_type": "code",
   "execution_count": null,
   "metadata": {},
   "outputs": [],
   "source": [
    "# instancia a classe de expectativas\n",
    "em = Expectativas()\n",
    "\n",
    "# obtém o último ponto da expectativa da inflação acumulada em 12 meses\n",
    "exp_ipca_raw = em.get_endpoint('ExpectativasMercadoInflacao12Meses')\n",
    "\n",
    "# traz a expectativa de inflação cambial acumulada em 12 meses\n",
    "#exp_ipca continuar aqui"
   ]
  }
 ],
 "metadata": {
  "kernelspec": {
   "display_name": "Python 3",
   "language": "python",
   "name": "python3"
  },
  "language_info": {
   "codemirror_mode": {
    "name": "ipython",
    "version": 3
   },
   "file_extension": ".py",
   "mimetype": "text/x-python",
   "name": "python",
   "nbconvert_exporter": "python",
   "pygments_lexer": "ipython3",
   "version": "3.10.8"
  }
 },
 "nbformat": 4,
 "nbformat_minor": 2
}
