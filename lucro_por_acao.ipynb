{
 "cells": [
  {
   "cell_type": "markdown",
   "metadata": {},
   "source": [
    "Cópia do exercício da analise macro"
   ]
  },
  {
   "cell_type": "code",
   "execution_count": 25,
   "metadata": {},
   "outputs": [
    {
     "name": "stderr",
     "output_type": "stream",
     "text": [
      "/tmp/ipykernel_9699/4188258303.py:9: MatplotlibDeprecationWarning: The seaborn styles shipped by Matplotlib are deprecated since 3.6, as they no longer correspond to the styles shipped by seaborn. However, they will remain available as 'seaborn-v0_8-<style>'. Alternatively, directly use the seaborn API instead.\n",
      "  plt.style.use('seaborn')\n"
     ]
    }
   ],
   "source": [
    "import pandas as pd\n",
    "import numpy as np\n",
    "from datetime import datetime\n",
    "\n",
    "#!pip install investpy\n",
    "import investpy as inv\n",
    "\n",
    "from pylab import mpl, plt\n",
    "plt.style.use('seaborn')\n",
    "\n",
    "ticker = \"ITSA4\""
   ]
  },
  {
   "cell_type": "code",
   "execution_count": 26,
   "metadata": {},
   "outputs": [
    {
     "data": {
      "text/html": [
       "<div>\n",
       "<style scoped>\n",
       "    .dataframe tbody tr th:only-of-type {\n",
       "        vertical-align: middle;\n",
       "    }\n",
       "\n",
       "    .dataframe tbody tr th {\n",
       "        vertical-align: top;\n",
       "    }\n",
       "\n",
       "    .dataframe thead th {\n",
       "        text-align: right;\n",
       "    }\n",
       "</style>\n",
       "<table border=\"1\" class=\"dataframe\">\n",
       "  <thead>\n",
       "    <tr style=\"text-align: right;\">\n",
       "      <th></th>\n",
       "      <th>Total Revenue</th>\n",
       "      <th>Gross Profit</th>\n",
       "      <th>Operating Income</th>\n",
       "      <th>Net Income</th>\n",
       "    </tr>\n",
       "    <tr>\n",
       "      <th>Date</th>\n",
       "      <th></th>\n",
       "      <th></th>\n",
       "      <th></th>\n",
       "      <th></th>\n",
       "    </tr>\n",
       "  </thead>\n",
       "  <tbody>\n",
       "    <tr>\n",
       "      <th>2022-12-31</th>\n",
       "      <td>8486.0</td>\n",
       "      <td>2875.0</td>\n",
       "      <td>1262.0</td>\n",
       "      <td>13674.0</td>\n",
       "    </tr>\n",
       "    <tr>\n",
       "      <th>2021-12-31</th>\n",
       "      <td>8170.0</td>\n",
       "      <td>2874.0</td>\n",
       "      <td>1916.0</td>\n",
       "      <td>12200.0</td>\n",
       "    </tr>\n",
       "    <tr>\n",
       "      <th>2020-12-31</th>\n",
       "      <td>5880.0</td>\n",
       "      <td>1852.0</td>\n",
       "      <td>7724.0</td>\n",
       "      <td>7056.0</td>\n",
       "    </tr>\n",
       "    <tr>\n",
       "      <th>2019-12-31</th>\n",
       "      <td>5008.0</td>\n",
       "      <td>1290.0</td>\n",
       "      <td>10994.0</td>\n",
       "      <td>10312.0</td>\n",
       "    </tr>\n",
       "  </tbody>\n",
       "</table>\n",
       "</div>"
      ],
      "text/plain": [
       "            Total Revenue  Gross Profit  Operating Income  Net Income\n",
       "Date                                                                 \n",
       "2022-12-31         8486.0        2875.0            1262.0     13674.0\n",
       "2021-12-31         8170.0        2874.0            1916.0     12200.0\n",
       "2020-12-31         5880.0        1852.0            7724.0      7056.0\n",
       "2019-12-31         5008.0        1290.0           10994.0     10312.0"
      ]
     },
     "execution_count": 26,
     "metadata": {},
     "output_type": "execute_result"
    }
   ],
   "source": [
    "itsa_dre = inv.get_stock_financial_summary(stock = ticker,\n",
    "    country = \"Brazil\",\n",
    "    summary_type = \"income_statement\",\n",
    "    period = \"annual\")\n",
    "\n",
    "itsa_bs = inv.get_stock_financial_summary(stock = ticker,\n",
    "    country = \"Brazil\",\n",
    "    summary_type = \"balance_sheet\",\n",
    "    period = \"annual\")\n",
    "\n",
    "itsa_cf = inv.get_stock_financial_summary(stock = ticker,\n",
    "    country = \"Brazil\",\n",
    "    summary_type = \"cash_flow_statement\",\n",
    "   period = \"annual\")\n",
    "\n",
    "itsa_dre\n",
    "\n"
   ]
  },
  {
   "cell_type": "code",
   "execution_count": 27,
   "metadata": {},
   "outputs": [
    {
     "data": {
      "text/plain": [
       "Date\n",
       "2022-12-31    17.866336\n",
       "2021-12-31    17.551936\n",
       "2020-12-31    12.304902\n",
       "2019-12-31    18.670336\n",
       "dtype: float64"
      ]
     },
     "execution_count": 27,
     "metadata": {},
     "output_type": "execute_result"
    }
   ],
   "source": [
    "ROE = itsa_dre['Net Income'] / itsa_bs['Total Equity'] * 100\n",
    "\n",
    "ROE"
   ]
  },
  {
   "cell_type": "code",
   "execution_count": 28,
   "metadata": {},
   "outputs": [
    {
     "data": {
      "text/plain": [
       "Date\n",
       "2022-12-31    14.149860\n",
       "2021-12-31    14.189181\n",
       "2020-12-31     9.719008\n",
       "2019-12-31    15.282471\n",
       "dtype: float64"
      ]
     },
     "execution_count": 28,
     "metadata": {},
     "output_type": "execute_result"
    }
   ],
   "source": [
    "ROA = itsa_dre['Net Income'] / itsa_bs['Total Assets'] * 100\n",
    "\n",
    "ROA"
   ]
  },
  {
   "cell_type": "code",
   "execution_count": 29,
   "metadata": {},
   "outputs": [
    {
     "ename": "ConnectionError",
     "evalue": "ERR#0015: error 403, try again later.",
     "output_type": "error",
     "traceback": [
      "\u001b[0;31m---------------------------------------------------------------------------\u001b[0m",
      "\u001b[0;31mConnectionError\u001b[0m                           Traceback (most recent call last)",
      "\u001b[1;32m/workspaces/economia/lucro_por_acao.ipynb Cell 6\u001b[0m line \u001b[0;36m5\n\u001b[1;32m      <a href='vscode-notebook-cell://codespaces%2Bobscure-fishstick-vgv5gg9pqq6fxqj/workspaces/economia/lucro_por_acao.ipynb#X10sdnNjb2RlLXJlbW90ZQ%3D%3D?line=0'>1</a>\u001b[0m start \u001b[39m=\u001b[39m itsa_dre\u001b[39m.\u001b[39mindex[\u001b[39m-\u001b[39m\u001b[39m1\u001b[39m]\u001b[39m.\u001b[39mstrftime(\u001b[39mformat\u001b[39m \u001b[39m=\u001b[39m \u001b[39m\"\u001b[39m\u001b[39m%d\u001b[39;00m\u001b[39m/\u001b[39m\u001b[39m%\u001b[39m\u001b[39mm/\u001b[39m\u001b[39m%\u001b[39m\u001b[39mY\u001b[39m\u001b[39m\"\u001b[39m)\n\u001b[1;32m      <a href='vscode-notebook-cell://codespaces%2Bobscure-fishstick-vgv5gg9pqq6fxqj/workspaces/economia/lucro_por_acao.ipynb#X10sdnNjb2RlLXJlbW90ZQ%3D%3D?line=2'>3</a>\u001b[0m end \u001b[39m=\u001b[39m itsa_dre\u001b[39m.\u001b[39mindex[\u001b[39m0\u001b[39m]\u001b[39m.\u001b[39mstrftime(\u001b[39mformat\u001b[39m \u001b[39m=\u001b[39m \u001b[39m\"\u001b[39m\u001b[39m%d\u001b[39;00m\u001b[39m/\u001b[39m\u001b[39m%\u001b[39m\u001b[39mm/\u001b[39m\u001b[39m%\u001b[39m\u001b[39mY\u001b[39m\u001b[39m\"\u001b[39m)\n\u001b[0;32m----> <a href='vscode-notebook-cell://codespaces%2Bobscure-fishstick-vgv5gg9pqq6fxqj/workspaces/economia/lucro_por_acao.ipynb#X10sdnNjb2RlLXJlbW90ZQ%3D%3D?line=4'>5</a>\u001b[0m itsa_price \u001b[39m=\u001b[39m inv\u001b[39m.\u001b[39;49mget_stock_historical_data(stock \u001b[39m=\u001b[39;49m ticker, country \u001b[39m=\u001b[39;49m \u001b[39m\"\u001b[39;49m\u001b[39mBrazil\u001b[39;49m\u001b[39m\"\u001b[39;49m, from_date \u001b[39m=\u001b[39;49m start, to_date \u001b[39m=\u001b[39;49m end)\n\u001b[1;32m      <a href='vscode-notebook-cell://codespaces%2Bobscure-fishstick-vgv5gg9pqq6fxqj/workspaces/economia/lucro_por_acao.ipynb#X10sdnNjb2RlLXJlbW90ZQ%3D%3D?line=5'>6</a>\u001b[0m itsa_price \u001b[39m=\u001b[39m inv\u001b[39m.\u001b[39mget_stock_historical_data()\n\u001b[1;32m      <a href='vscode-notebook-cell://codespaces%2Bobscure-fishstick-vgv5gg9pqq6fxqj/workspaces/economia/lucro_por_acao.ipynb#X10sdnNjb2RlLXJlbW90ZQ%3D%3D?line=7'>8</a>\u001b[0m \u001b[39m# Junta os objetos LPA e a coluna Close de itsa_price\u001b[39;00m\n",
      "File \u001b[0;32m~/.python/current/lib/python3.10/site-packages/investpy/stocks.py:664\u001b[0m, in \u001b[0;36mget_stock_historical_data\u001b[0;34m(stock, country, from_date, to_date, as_json, order, interval)\u001b[0m\n\u001b[1;32m    661\u001b[0m req \u001b[39m=\u001b[39m requests\u001b[39m.\u001b[39mpost(url, headers\u001b[39m=\u001b[39mhead, data\u001b[39m=\u001b[39mparams)\n\u001b[1;32m    663\u001b[0m \u001b[39mif\u001b[39;00m req\u001b[39m.\u001b[39mstatus_code \u001b[39m!=\u001b[39m \u001b[39m200\u001b[39m:\n\u001b[0;32m--> 664\u001b[0m     \u001b[39mraise\u001b[39;00m \u001b[39mConnectionError\u001b[39;00m(\n\u001b[1;32m    665\u001b[0m         \u001b[39m\"\u001b[39m\u001b[39mERR#0015: error \u001b[39m\u001b[39m\"\u001b[39m \u001b[39m+\u001b[39m \u001b[39mstr\u001b[39m(req\u001b[39m.\u001b[39mstatus_code) \u001b[39m+\u001b[39m \u001b[39m\"\u001b[39m\u001b[39m, try again later.\u001b[39m\u001b[39m\"\u001b[39m\n\u001b[1;32m    666\u001b[0m     )\n\u001b[1;32m    668\u001b[0m \u001b[39mif\u001b[39;00m \u001b[39mnot\u001b[39;00m req\u001b[39m.\u001b[39mtext:\n\u001b[1;32m    669\u001b[0m     \u001b[39mcontinue\u001b[39;00m\n",
      "\u001b[0;31mConnectionError\u001b[0m: ERR#0015: error 403, try again later."
     ]
    }
   ],
   "source": [
    "\n",
    "start = itsa_dre.index[-1].strftime(format = \"%d/%m/%Y\")\n",
    "\n",
    "end = itsa_dre.index[0].strftime(format = \"%d/%m/%Y\")\n",
    "\n",
    "itsa_price = inv.get_stock_historical_data(stock = ticker, country = \"Brazil\", from_date = start, to_date = end)\n",
    "itsa_price = inv.get_stock_historical_data()\n",
    "\n",
    "# Junta os objetos LPA e a coluna Close de itsa_price\n",
    "pl = pd.concat([LPA, itsa_price['Close']], axis=1)\n",
    "\n",
    "# Completa os valores faltantes\n",
    "\n",
    "pl.fillna(method = \"ffill\", inplace = True)\n",
    "\n",
    "# Retira os valores faltantes\n",
    "\n",
    "pl.dropna(inplace = True)\n",
    "\n",
    "# Renomeia as colunas\n",
    "\n",
    "pl = pl.rename({\"Net Income\" : \"LPA\",\n",
    "           \"Close\" : 'Price'}, axis = 'columns')\n",
    "\n",
    "# Calcula o P/L \n",
    "\n",
    "pl[\"pl\"] = pl[\"Price\"] / pl[\"LPA\"]"
   ]
  },
  {
   "cell_type": "code",
   "execution_count": null,
   "metadata": {},
   "outputs": [
    {
     "ename": "RuntimeError",
     "evalue": "ERR#0004: data retrieval error while scraping.",
     "output_type": "error",
     "traceback": [
      "\u001b[0;31m---------------------------------------------------------------------------\u001b[0m",
      "\u001b[0;31mRuntimeError\u001b[0m                              Traceback (most recent call last)",
      "\u001b[1;32m/workspaces/economia/lucro_por_acao.ipynb Cell 5\u001b[0m line \u001b[0;36m1\n\u001b[0;32m----> <a href='vscode-notebook-cell://codespaces%2Bobscure-fishstick-vgv5gg9pqq6fxqj/workspaces/economia/lucro_por_acao.ipynb#W5sdnNjb2RlLXJlbW90ZQ%3D%3D?line=0'>1</a>\u001b[0m itsa \u001b[39m=\u001b[39m inv\u001b[39m.\u001b[39;49mget_stock_information(stock \u001b[39m=\u001b[39;49m ticker, country \u001b[39m=\u001b[39;49m \u001b[39m\"\u001b[39;49m\u001b[39mBrazil\u001b[39;49m\u001b[39m\"\u001b[39;49m, as_json \u001b[39m=\u001b[39;49m \u001b[39mFalse\u001b[39;49;00m)\n",
      "File \u001b[0;32m~/.python/current/lib/python3.10/site-packages/investpy/stocks.py:1356\u001b[0m, in \u001b[0;36mget_stock_information\u001b[0;34m(stock, country, as_json)\u001b[0m\n\u001b[1;32m   1353\u001b[0m result\u001b[39m.\u001b[39mat[\u001b[39m0\u001b[39m, \u001b[39m\"\u001b[39m\u001b[39mStock Symbol\u001b[39m\u001b[39m\"\u001b[39m] \u001b[39m=\u001b[39m stock\n\u001b[1;32m   1355\u001b[0m \u001b[39mif\u001b[39;00m \u001b[39mnot\u001b[39;00m path_:\n\u001b[0;32m-> 1356\u001b[0m     \u001b[39mraise\u001b[39;00m \u001b[39mRuntimeError\u001b[39;00m(\u001b[39m\"\u001b[39m\u001b[39mERR#0004: data retrieval error while scraping.\u001b[39m\u001b[39m\"\u001b[39m)\n\u001b[1;32m   1358\u001b[0m \u001b[39mfor\u001b[39;00m elements_ \u001b[39min\u001b[39;00m path_:\n\u001b[1;32m   1359\u001b[0m     title_ \u001b[39m=\u001b[39m elements_[\u001b[39m0\u001b[39m]\u001b[39m.\u001b[39mtext_content()\n",
      "\u001b[0;31mRuntimeError\u001b[0m: ERR#0004: data retrieval error while scraping."
     ]
    }
   ],
   "source": [
    "itsa = inv.get_stock_information(stock = ticker, country = \"Brazil\", as_json = False)"
   ]
  },
  {
   "cell_type": "code",
   "execution_count": null,
   "metadata": {},
   "outputs": [
    {
     "ename": "NameError",
     "evalue": "name 'itsa' is not defined",
     "output_type": "error",
     "traceback": [
      "\u001b[0;31m---------------------------------------------------------------------------\u001b[0m",
      "\u001b[0;31mNameError\u001b[0m                                 Traceback (most recent call last)",
      "\u001b[1;32m/workspaces/economia/lucro_por_acao.ipynb Cell 6\u001b[0m line \u001b[0;36m1\n\u001b[0;32m----> <a href='vscode-notebook-cell://codespaces%2Bobscure-fishstick-vgv5gg9pqq6fxqj/workspaces/economia/lucro_por_acao.ipynb#W4sdnNjb2RlLXJlbW90ZQ%3D%3D?line=0'>1</a>\u001b[0m LPA \u001b[39m=\u001b[39m itsa_dre[\u001b[39m'\u001b[39m\u001b[39mNet Income\u001b[39m\u001b[39m'\u001b[39m] \u001b[39m*\u001b[39m \u001b[39m1000000\u001b[39m \u001b[39m/\u001b[39m itsa[\u001b[39m\"\u001b[39m\u001b[39mShares Outstanding\u001b[39m\u001b[39m\"\u001b[39m]\u001b[39m.\u001b[39mvalues \n\u001b[1;32m      <a href='vscode-notebook-cell://codespaces%2Bobscure-fishstick-vgv5gg9pqq6fxqj/workspaces/economia/lucro_por_acao.ipynb#W4sdnNjb2RlLXJlbW90ZQ%3D%3D?line=2'>3</a>\u001b[0m LPA\n\u001b[1;32m      <a href='vscode-notebook-cell://codespaces%2Bobscure-fishstick-vgv5gg9pqq6fxqj/workspaces/economia/lucro_por_acao.ipynb#W4sdnNjb2RlLXJlbW90ZQ%3D%3D?line=4'>5</a>\u001b[0m \u001b[39m# Date\u001b[39;00m\n\u001b[1;32m      <a href='vscode-notebook-cell://codespaces%2Bobscure-fishstick-vgv5gg9pqq6fxqj/workspaces/economia/lucro_por_acao.ipynb#W4sdnNjb2RlLXJlbW90ZQ%3D%3D?line=5'>6</a>\u001b[0m \u001b[39m# 2021-12-31    1.355335\u001b[39;00m\n\u001b[1;32m      <a href='vscode-notebook-cell://codespaces%2Bobscure-fishstick-vgv5gg9pqq6fxqj/workspaces/economia/lucro_por_acao.ipynb#W4sdnNjb2RlLXJlbW90ZQ%3D%3D?line=6'>7</a>\u001b[0m \u001b[39m# 2020-12-31    0.783873\u001b[39;00m\n\u001b[1;32m      <a href='vscode-notebook-cell://codespaces%2Bobscure-fishstick-vgv5gg9pqq6fxqj/workspaces/economia/lucro_por_acao.ipynb#W4sdnNjb2RlLXJlbW90ZQ%3D%3D?line=7'>8</a>\u001b[0m \u001b[39m# 2019-12-31    1.145592\u001b[39;00m\n\u001b[1;32m      <a href='vscode-notebook-cell://codespaces%2Bobscure-fishstick-vgv5gg9pqq6fxqj/workspaces/economia/lucro_por_acao.ipynb#W4sdnNjb2RlLXJlbW90ZQ%3D%3D?line=8'>9</a>\u001b[0m \u001b[39m# 2018-12-31    1.048274\u001b[39;00m\n\u001b[1;32m     <a href='vscode-notebook-cell://codespaces%2Bobscure-fishstick-vgv5gg9pqq6fxqj/workspaces/economia/lucro_por_acao.ipynb#W4sdnNjb2RlLXJlbW90ZQ%3D%3D?line=9'>10</a>\u001b[0m \u001b[39m# Name: Net Income, dtype: float64\u001b[39;00m\n",
      "\u001b[0;31mNameError\u001b[0m: name 'itsa' is not defined"
     ]
    }
   ],
   "source": [
    "LPA = itsa_dre['Net Income'] * 1000000 / itsa[\"Shares Outstanding\"].values \n",
    "\n",
    "LPA\n",
    "\n",
    "# Date\n",
    "# 2021-12-31    1.355335\n",
    "# 2020-12-31    0.783873\n",
    "# 2019-12-31    1.145592\n",
    "# 2018-12-31    1.048274\n",
    "# Name: Net Income, dtype: float64"
   ]
  }
 ],
 "metadata": {
  "kernelspec": {
   "display_name": "Python 3",
   "language": "python",
   "name": "python3"
  },
  "language_info": {
   "codemirror_mode": {
    "name": "ipython",
    "version": 3
   },
   "file_extension": ".py",
   "mimetype": "text/x-python",
   "name": "python",
   "nbconvert_exporter": "python",
   "pygments_lexer": "ipython3",
   "version": "3.10.8"
  }
 },
 "nbformat": 4,
 "nbformat_minor": 2
}
